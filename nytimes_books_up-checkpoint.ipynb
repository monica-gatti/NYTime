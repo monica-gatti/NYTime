{
 "cells": [
  {
   "cell_type": "code",
   "execution_count": 1,
   "id": "65c23637",
   "metadata": {
    "scrolled": true
   },
   "outputs": [],
   "source": [
    "import requests\n",
    "from pprint import pprint\n",
    "url = 'https://api.nytimes.com/svc/books/v3/lists/current/hardcover-fiction.json?api-key=CKjGFh7CrNKbbE3ZBeHKdeANKwxkm5c6'\n",
    "\n",
    "resp = requests.get(url=url)\n",
    "data = resp.json()\n",
    "#pprint(data) "
   ]
  },
  {
   "cell_type": "code",
   "execution_count": 2,
   "id": "b251bba2",
   "metadata": {},
   "outputs": [
    {
     "name": "stdout",
     "output_type": "stream",
     "text": [
      "'list_name'\n",
      "'list_name_encoded'\n",
      "'bestsellers_date'\n",
      "'published_date'\n",
      "'published_date_description'\n",
      "'next_published_date'\n",
      "'previous_published_date'\n",
      "'display_name'\n",
      "'normal_list_ends_at'\n",
      "'updated'\n",
      "'books'\n",
      "'corrections'\n"
     ]
    }
   ],
   "source": [
    "for key in data[\"results\"]:\n",
    "     pprint(key)"
   ]
  },
  {
   "cell_type": "code",
   "execution_count": null,
   "id": "bd786f0b",
   "metadata": {
    "scrolled": true
   },
   "outputs": [],
   "source": [
    "#pprint(data)"
   ]
  },
  {
   "cell_type": "code",
   "execution_count": 28,
   "id": "ee65faee",
   "metadata": {},
   "outputs": [
    {
     "name": "stdout",
     "output_type": "stream",
     "text": [
      "'rank'\n",
      "'rank_last_week'\n",
      "'weeks_on_list'\n",
      "'asterisk'\n",
      "'dagger'\n",
      "'primary_isbn10'\n",
      "'primary_isbn13'\n",
      "'publisher'\n",
      "'description'\n",
      "'price'\n",
      "'title'\n",
      "'author'\n",
      "'contributor'\n",
      "'contributor_note'\n",
      "'book_image'\n",
      "'book_image_width'\n",
      "'book_image_height'\n",
      "'amazon_product_url'\n",
      "'age_group'\n",
      "'book_review_link'\n",
      "'first_chapter_link'\n",
      "'sunday_review_link'\n",
      "'article_chapter_link'\n",
      "'isbns'\n",
      "'buy_links'\n",
      "'book_uri'\n"
     ]
    }
   ],
   "source": [
    "for key in data[\"results\"][\"books\"][0]:\n",
    "    pprint(key)"
   ]
  },
  {
   "cell_type": "code",
   "execution_count": 5,
   "id": "fd4af636",
   "metadata": {},
   "outputs": [
    {
     "name": "stdout",
     "output_type": "stream",
     "text": [
      "[{'author': 'Louise Penny',\n",
      "  'isbn_pri': '1250145295',\n",
      "  'rank': 1,\n",
      "  'title': 'A WORLD OF CURIOSITIES'},\n",
      " {'author': 'John Grisham',\n",
      "  'isbn_pri': '0385548923',\n",
      "  'rank': 2,\n",
      "  'title': 'THE BOYS FROM BILOXI'},\n",
      " {'author': 'Stephen King',\n",
      "  'isbn_pri': '1668002175',\n",
      "  'rank': 3,\n",
      "  'title': 'FAIRY TALE'},\n",
      " {'author': 'Bonnie Garmus',\n",
      "  'isbn_pri': '038554734X',\n",
      "  'rank': 4,\n",
      "  'title': 'LESSONS IN CHEMISTRY'},\n",
      " {'author': 'James Patterson',\n",
      "  'isbn_pri': '0316499188',\n",
      "  'rank': 5,\n",
      "  'title': 'TRIPLE CROSS'}]\n"
     ]
    }
   ],
   "source": [
    "list_books = []\n",
    "\n",
    "for index in range(0,len(data['results']['books'])):\n",
    "    title = (data['results']['books'][index]['title'])\n",
    "    author=(data['results']['books'][index]['author'])\n",
    "    rank=(data['results']['books'][index]['rank'])\n",
    "    isbn_pri = (data['results']['books'][index]['primary_isbn10'])\n",
    "    \n",
    "    dictionnaire = {'title': title,\n",
    "                    'author': author,\n",
    "                    'rank':rank,\n",
    "                    'isbn_pri' : isbn_pri\n",
    "                    }\n",
    "    list_books.append(dictionnaire)\n",
    "pprint(list_books[0:5])"
   ]
  },
  {
   "cell_type": "code",
   "execution_count": null,
   "id": "6f059951",
   "metadata": {},
   "outputs": [],
   "source": []
  }
 ],
 "metadata": {
  "kernelspec": {
   "display_name": "Python 3",
   "language": "python",
   "name": "python3"
  },
  "language_info": {
   "codemirror_mode": {
    "name": "ipython",
    "version": 3
   },
   "file_extension": ".py",
   "mimetype": "text/x-python",
   "name": "python",
   "nbconvert_exporter": "python",
   "pygments_lexer": "ipython3",
   "version": "3.10.6 (tags/v3.10.6:9c7b4bd, Aug  1 2022, 21:53:49) [MSC v.1932 64 bit (AMD64)]"
  },
  "vscode": {
   "interpreter": {
    "hash": "940c5f6275fc569ff2b357825f6a13f00098e4a0d9e919692d504f53d886bed4"
   }
  }
 },
 "nbformat": 4,
 "nbformat_minor": 5
}
